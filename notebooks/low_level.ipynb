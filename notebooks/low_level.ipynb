{
 "cells": [
  {
   "cell_type": "markdown",
   "metadata": {},
   "source": [
    "PCSEA Low Level Interface\n",
    "==\n",
    "This notebook demonstrates use of the low level interface to PCSEA.  This interface requires explicit calls to construct the unit cells and perform measurements.  Each set of potential parameters must be explicitly specified as well."
   ]
  },
  {
   "cell_type": "code",
   "execution_count": 1,
   "metadata": {
    "collapsed": true
   },
   "outputs": [],
   "source": [
    "# Import necessary modules\n",
    "import inspect, io, math, numpy, os, sys\n",
    "sys.path.append(os.path.realpath(os.path.join(os.path.dirname(inspect.getfile(inspect.currentframe())), \"..\")))\n",
    "import crystal, potential"
   ]
  },
  {
   "cell_type": "markdown",
   "metadata": {},
   "source": [
    "Working with Cells\n",
    "--\n",
    "Cells can easily be constructed, written, and read."
   ]
  },
  {
   "cell_type": "code",
   "execution_count": 2,
   "metadata": {
    "collapsed": true
   },
   "outputs": [],
   "source": [
    "# Create new cells directly from vectors and coordinates\n",
    "NaCl = crystal.Cell(\n",
    "    numpy.array([[2, 0, 0], [0, 2, 0], [0, 0, 2]]), [\n",
    "    numpy.array([[0, 0, 0], [0, 1, 1], [1, 0, 1], [1, 1, 0]]),\n",
    "    numpy.array([[0, 0, 1], [0, 1, 0], [1, 0, 0], [1, 1, 1]])])\n",
    "CsCl = crystal.Cell(\n",
    "    numpy.array([[2, 0, 0], [0, 2, 0], [0, 0, 2]]), [\n",
    "    numpy.array([[0, 0, 0]]),\n",
    "    numpy.array([[1, 1, 1]])])"
   ]
  },
  {
   "cell_type": "code",
   "execution_count": 3,
   "metadata": {},
   "outputs": [
    {
     "data": {
      "text/plain": [
       "[array([ 2.,  0.,  0.]), array([ 0.,  2.,  0.]), array([ 0.,  0.,  2.])]"
      ]
     },
     "execution_count": 3,
     "metadata": {},
     "output_type": "execute_result"
    }
   ],
   "source": [
    "# Retrieve vector data\n",
    "[NaCl.vector(i) for i in range(NaCl.dimensions())]"
   ]
  },
  {
   "cell_type": "code",
   "execution_count": 4,
   "metadata": {},
   "outputs": [
    {
     "data": {
      "text/plain": [
       "[array([ 0.,  0.,  0.]),\n",
       " array([ 0.,  1.,  1.]),\n",
       " array([ 1.,  0.,  1.]),\n",
       " array([ 1.,  1.,  0.]),\n",
       " array([ 0.,  0.,  1.]),\n",
       " array([ 0.,  1.,  0.]),\n",
       " array([ 1.,  0.,  0.]),\n",
       " array([ 1.,  1.,  1.])]"
      ]
     },
     "execution_count": 4,
     "metadata": {},
     "output_type": "execute_result"
    }
   ],
   "source": [
    "# Retrieve atom data\n",
    "[NaCl.atom(i, j) for i in range(NaCl.atom_types()) for j in range(NaCl.atom_count(i))]"
   ]
  },
  {
   "cell_type": "code",
   "execution_count": 5,
   "metadata": {},
   "outputs": [
    {
     "name": "stdout",
     "output_type": "stream",
     "text": [
      "3 4 4\n",
      "2.0 0.0 0.0\n",
      "0.0 2.0 0.0\n",
      "0.0 0.0 2.0\n",
      "0.0 0.0 0.0\n",
      "0.0 1.0 1.0\n",
      "1.0 0.0 1.0\n",
      "1.0 1.0 0.0\n",
      "0.0 0.0 1.0\n",
      "0.0 1.0 0.0\n",
      "1.0 0.0 0.0\n",
      "1.0 1.0 1.0\n",
      "\n"
     ]
    }
   ],
   "source": [
    "# Convert the cell to a textual representation\n",
    "string_io = io.StringIO()\n",
    "NaCl.write_data(string_io)\n",
    "print(string_io.getvalue())"
   ]
  },
  {
   "cell_type": "code",
   "execution_count": 6,
   "metadata": {},
   "outputs": [
    {
     "data": {
      "text/plain": [
       "[array([ 2.,  0.,  0.]), array([ 0.,  2.,  0.]), array([ 0.,  0.,  2.])]"
      ]
     },
     "execution_count": 6,
     "metadata": {},
     "output_type": "execute_result"
    }
   ],
   "source": [
    "# Convert the textual representation back to a cell: it is identical\n",
    "string_io.seek(0)\n",
    "NaCl_io = crystal.Cell.read_data(string_io)\n",
    "[NaCl_io.vector(i) for i in range(NaCl_io.dimensions())]"
   ]
  },
  {
   "cell_type": "code",
   "execution_count": 7,
   "metadata": {},
   "outputs": [
    {
     "data": {
      "text/plain": [
       "[array([ 0.,  0.,  0.]),\n",
       " array([ 0.,  1.,  1.]),\n",
       " array([ 1.,  0.,  1.]),\n",
       " array([ 1.,  1.,  0.]),\n",
       " array([ 0.,  0.,  1.]),\n",
       " array([ 0.,  1.,  0.]),\n",
       " array([ 1.,  0.,  0.]),\n",
       " array([ 1.,  1.,  1.])]"
      ]
     },
     "execution_count": 7,
     "metadata": {},
     "output_type": "execute_result"
    }
   ],
   "source": [
    "[NaCl_io.atom(i, j) for i in range(NaCl_io.atom_types()) for j in range(NaCl_io.atom_count(i))]"
   ]
  },
  {
   "cell_type": "markdown",
   "metadata": {},
   "source": [
    "Making Measurements\n",
    "--\n",
    "In order to determine the energy of a structure, it is first necessary to make measurements on the atoms within.  Many energy calculations can be performed using a single set of measurements provided that the relative interatomic distances need not change."
   ]
  },
  {
   "cell_type": "code",
   "execution_count": 8,
   "metadata": {
    "collapsed": true
   },
   "outputs": [],
   "source": [
    "# Perform the measurements (fields are updated internally)\n",
    "NaCl.measure(10)\n",
    "CsCl.measure(10)"
   ]
  },
  {
   "cell_type": "code",
   "execution_count": 9,
   "metadata": {},
   "outputs": [
    {
     "data": {
      "text/plain": [
       "([{1.4142135623730951: 48,\n",
       "   2.0: 24,\n",
       "   2.4494897427831779: 96,\n",
       "   2.8284271247461903: 48,\n",
       "   3.1622776601683795: 96,\n",
       "   3.4641016151377544: 32,\n",
       "   3.7416573867739413: 192,\n",
       "   4.0: 24,\n",
       "   4.2426406871192848: 144,\n",
       "   4.4721359549995796: 96,\n",
       "   4.6904157598234297: 96,\n",
       "   4.8989794855663558: 96,\n",
       "   5.0990195135927845: 288,\n",
       "   5.4772255750516612: 192,\n",
       "   5.6568542494923806: 48,\n",
       "   5.8309518948453007: 192,\n",
       "   6.0: 120,\n",
       "   6.164414002968976: 288,\n",
       "   6.324555320336759: 96,\n",
       "   6.4807406984078604: 192,\n",
       "   6.6332495807107996: 96,\n",
       "   6.7823299831252681: 192,\n",
       "   6.9282032302755088: 32,\n",
       "   7.0710678118654755: 336,\n",
       "   7.2111025509279782: 96,\n",
       "   7.3484692283495345: 384,\n",
       "   7.4833147735478827: 192,\n",
       "   7.6157731058639087: 96,\n",
       "   7.8740078740118111: 384,\n",
       "   8.0: 24,\n",
       "   8.1240384046359608: 384,\n",
       "   8.2462112512353212: 192,\n",
       "   8.3666002653407556: 192,\n",
       "   8.4852813742385695: 144,\n",
       "   8.6023252670426267: 480,\n",
       "   8.717797887081348: 96,\n",
       "   8.8317608663278477: 192,\n",
       "   8.9442719099991592: 96,\n",
       "   9.0553851381374173: 192,\n",
       "   9.1651513899116797: 192,\n",
       "   9.2736184954957039: 480,\n",
       "   9.3808315196468595: 96,\n",
       "   9.4868329805051381: 480,\n",
       "   9.6953597148326587: 384,\n",
       "   9.7979589711327115: 96,\n",
       "   9.8994949366116654: 432,\n",
       "   10.0: 120},\n",
       "  {1.0: 24,\n",
       "   1.7320508075688772: 32,\n",
       "   2.2360679774997898: 96,\n",
       "   3.0: 120,\n",
       "   3.3166247903553998: 96,\n",
       "   3.6055512754639891: 96,\n",
       "   4.1231056256176606: 192,\n",
       "   4.358898943540674: 96,\n",
       "   4.5825756949558398: 192,\n",
       "   5.0: 120,\n",
       "   5.196152422706632: 128,\n",
       "   5.3851648071345037: 288,\n",
       "   5.7445626465380286: 192,\n",
       "   5.9160797830996161: 192,\n",
       "   6.0827625302982193: 96,\n",
       "   6.4031242374328485: 384,\n",
       "   6.5574385243020004: 96,\n",
       "   6.7082039324993694: 288,\n",
       "   7.0: 216,\n",
       "   7.1414284285428504: 192,\n",
       "   7.2801098892805181: 288,\n",
       "   7.5498344352707498: 192,\n",
       "   7.6811457478686078: 288,\n",
       "   7.810249675906654: 288,\n",
       "   8.0622577482985491: 384,\n",
       "   8.1853527718724504: 96,\n",
       "   8.3066238629180749: 384,\n",
       "   8.5440037453175304: 192,\n",
       "   8.6602540378443873: 224,\n",
       "   8.7749643873921226: 384,\n",
       "   9.0: 408,\n",
       "   9.1104335791442992: 288,\n",
       "   9.2195444572928871: 192,\n",
       "   9.4339811320566032: 576,\n",
       "   9.5393920141694561: 192,\n",
       "   9.6436507609929549: 192,\n",
       "   9.8488578017961039: 192,\n",
       "   9.9498743710661994: 288},\n",
       "  {1.0: 24,\n",
       "   1.7320508075688772: 32,\n",
       "   2.2360679774997898: 96,\n",
       "   3.0: 120,\n",
       "   3.3166247903553998: 96,\n",
       "   3.6055512754639891: 96,\n",
       "   4.1231056256176606: 192,\n",
       "   4.358898943540674: 96,\n",
       "   4.5825756949558398: 192,\n",
       "   5.0: 120,\n",
       "   5.196152422706632: 128,\n",
       "   5.3851648071345037: 288,\n",
       "   5.7445626465380286: 192,\n",
       "   5.9160797830996161: 192,\n",
       "   6.0827625302982193: 96,\n",
       "   6.4031242374328485: 384,\n",
       "   6.5574385243020004: 96,\n",
       "   6.7082039324993694: 288,\n",
       "   7.0: 216,\n",
       "   7.1414284285428504: 192,\n",
       "   7.2801098892805181: 288,\n",
       "   7.5498344352707498: 192,\n",
       "   7.6811457478686078: 288,\n",
       "   7.810249675906654: 288,\n",
       "   8.0622577482985491: 384,\n",
       "   8.1853527718724504: 96,\n",
       "   8.3066238629180749: 384,\n",
       "   8.5440037453175304: 192,\n",
       "   8.6602540378443873: 224,\n",
       "   8.7749643873921226: 384,\n",
       "   9.0: 408,\n",
       "   9.1104335791442992: 288,\n",
       "   9.2195444572928871: 192,\n",
       "   9.4339811320566032: 576,\n",
       "   9.5393920141694561: 192,\n",
       "   9.6436507609929549: 192,\n",
       "   9.8488578017961039: 192,\n",
       "   9.9498743710661994: 288},\n",
       "  {1.4142135623730951: 48,\n",
       "   2.0: 24,\n",
       "   2.4494897427831779: 96,\n",
       "   2.8284271247461903: 48,\n",
       "   3.1622776601683795: 96,\n",
       "   3.4641016151377544: 32,\n",
       "   3.7416573867739413: 192,\n",
       "   4.0: 24,\n",
       "   4.2426406871192848: 144,\n",
       "   4.4721359549995796: 96,\n",
       "   4.6904157598234297: 96,\n",
       "   4.8989794855663558: 96,\n",
       "   5.0990195135927845: 288,\n",
       "   5.4772255750516612: 192,\n",
       "   5.6568542494923806: 48,\n",
       "   5.8309518948453007: 192,\n",
       "   6.0: 120,\n",
       "   6.164414002968976: 288,\n",
       "   6.324555320336759: 96,\n",
       "   6.4807406984078604: 192,\n",
       "   6.6332495807107996: 96,\n",
       "   6.7823299831252681: 192,\n",
       "   6.9282032302755088: 32,\n",
       "   7.0710678118654755: 336,\n",
       "   7.2111025509279782: 96,\n",
       "   7.3484692283495345: 384,\n",
       "   7.4833147735478827: 192,\n",
       "   7.6157731058639087: 96,\n",
       "   7.8740078740118111: 384,\n",
       "   8.0: 24,\n",
       "   8.1240384046359608: 384,\n",
       "   8.2462112512353212: 192,\n",
       "   8.3666002653407556: 192,\n",
       "   8.4852813742385695: 144,\n",
       "   8.6023252670426267: 480,\n",
       "   8.717797887081348: 96,\n",
       "   8.8317608663278477: 192,\n",
       "   8.9442719099991592: 96,\n",
       "   9.0553851381374173: 192,\n",
       "   9.1651513899116797: 192,\n",
       "   9.2736184954957039: 480,\n",
       "   9.3808315196468595: 96,\n",
       "   9.4868329805051381: 480,\n",
       "   9.6953597148326587: 384,\n",
       "   9.7979589711327115: 96,\n",
       "   9.8994949366116654: 432,\n",
       "   10.0: 120}],\n",
       " [{2.0: 6,\n",
       "   2.8284271247461903: 12,\n",
       "   3.4641016151377544: 8,\n",
       "   4.0: 6,\n",
       "   4.4721359549995796: 24,\n",
       "   4.8989794855663558: 24,\n",
       "   5.6568542494923806: 12,\n",
       "   6.0: 30,\n",
       "   6.324555320336759: 24,\n",
       "   6.6332495807107996: 24,\n",
       "   6.9282032302755088: 8,\n",
       "   7.2111025509279782: 24,\n",
       "   7.4833147735478827: 48,\n",
       "   8.0: 6,\n",
       "   8.2462112512353212: 48,\n",
       "   8.4852813742385695: 36,\n",
       "   8.717797887081348: 24,\n",
       "   8.9442719099991592: 24,\n",
       "   9.1651513899116797: 48,\n",
       "   9.3808315196468595: 24,\n",
       "   9.7979589711327115: 24,\n",
       "   10.0: 30},\n",
       "  {1.7320508075688772: 8,\n",
       "   3.3166247903553998: 24,\n",
       "   4.358898943540674: 24,\n",
       "   5.196152422706632: 32,\n",
       "   5.9160797830996161: 48,\n",
       "   6.5574385243020004: 24,\n",
       "   7.1414284285428504: 48,\n",
       "   7.6811457478686078: 72,\n",
       "   8.1853527718724504: 24,\n",
       "   8.6602540378443873: 56,\n",
       "   9.1104335791442992: 72,\n",
       "   9.5393920141694561: 48,\n",
       "   9.9498743710661994: 72},\n",
       "  {1.7320508075688772: 8,\n",
       "   3.3166247903553998: 24,\n",
       "   4.358898943540674: 24,\n",
       "   5.196152422706632: 32,\n",
       "   5.9160797830996161: 48,\n",
       "   6.5574385243020004: 24,\n",
       "   7.1414284285428504: 48,\n",
       "   7.6811457478686078: 72,\n",
       "   8.1853527718724504: 24,\n",
       "   8.6602540378443873: 56,\n",
       "   9.1104335791442992: 72,\n",
       "   9.5393920141694561: 48,\n",
       "   9.9498743710661994: 72},\n",
       "  {2.0: 6,\n",
       "   2.8284271247461903: 12,\n",
       "   3.4641016151377544: 8,\n",
       "   4.0: 6,\n",
       "   4.4721359549995796: 24,\n",
       "   4.8989794855663558: 24,\n",
       "   5.6568542494923806: 12,\n",
       "   6.0: 30,\n",
       "   6.324555320336759: 24,\n",
       "   6.6332495807107996: 24,\n",
       "   6.9282032302755088: 8,\n",
       "   7.2111025509279782: 24,\n",
       "   7.4833147735478827: 48,\n",
       "   8.0: 6,\n",
       "   8.2462112512353212: 48,\n",
       "   8.4852813742385695: 36,\n",
       "   8.717797887081348: 24,\n",
       "   8.9442719099991592: 24,\n",
       "   9.1651513899116797: 48,\n",
       "   9.3808315196468595: 24,\n",
       "   9.7979589711327115: 24,\n",
       "   10.0: 30}])"
      ]
     },
     "execution_count": 9,
     "metadata": {},
     "output_type": "execute_result"
    }
   ],
   "source": [
    "# Histograms have been generated indicating the number of atoms present at a given distance\n",
    "([NaCl.histogram(i, j) for i in range(NaCl.atom_types()) for j in range(NaCl.atom_types())],\n",
    " [CsCl.histogram(i, j) for i in range(CsCl.atom_types()) for j in range(CsCl.atom_types())])"
   ]
  },
  {
   "cell_type": "code",
   "execution_count": 10,
   "metadata": {},
   "outputs": [
    {
     "data": {
      "text/plain": [
       "([1.4142135623730951, 1.0, 1.0, 1.4142135623730951],\n",
       " [2.0, 1.7320508075688772, 1.7320508075688772, 2.0])"
      ]
     },
     "execution_count": 10,
     "metadata": {},
     "output_type": "execute_result"
    }
   ],
   "source": [
    "# The minimum interatomic distance can be found once measurement has been done\n",
    "# This can be useful for setting the potential length scale\n",
    "([NaCl.contact(i, j) for i in range(NaCl.atom_types()) for j in range(NaCl.atom_types())],\n",
    " [CsCl.contact(i, j) for i in range(CsCl.atom_types()) for j in range(CsCl.atom_types())])"
   ]
  },
  {
   "cell_type": "markdown",
   "metadata": {
    "collapsed": true
   },
   "source": [
    "Calculating Energies\n",
    "--\n",
    "Once measurements have been made, energies can be calculated.  The accuracy of the calculated energies will depend upon the range of the potential(s) used and the measurement cutoff.  Note that potentials and parameter sets are specified for all possible pairs of atom types.  Underspecification (missing pairs) or overspecification (pairs specified both as $(a,b)$ and $(b,a)$) will raise `ValueError`s.\n",
    "\n",
    "One energy will be returned per parameter set.  Energies are calculated per atom, so using a periodic supercell in place of a unit cell should not affect the results provided all else is held constant."
   ]
  },
  {
   "cell_type": "code",
   "execution_count": 11,
   "metadata": {},
   "outputs": [
    {
     "data": {
      "text/plain": [
       "[-3.0000061449370992, -3.0092336647264317, -3.5867436685091536]"
      ]
     },
     "execution_count": 11,
     "metadata": {},
     "output_type": "execute_result"
    }
   ],
   "source": [
    "NaCl_s = (2.0 ** (-1.0 / 6.0))\n",
    "NaCl.energy({\n",
    "    (0, 0): potential.lj_piecewise_repel, (1, 1): potential.lj_piecewise_repel, (0, 1): potential.lj_piecewise_full}, [{\n",
    "    (0, 0): (NaCl_s, 1.0, 12.0, 0.0), (1, 1): (NaCl_s, 1.0, 12.0, 0.0), (0, 1): (NaCl_s, 1.0, 24.0, 12.0, 0.0)}, {\n",
    "    (0, 0): (NaCl_s, 1.0, 12.0, 0.0), (1, 1): (NaCl_s, 1.0, 12.0, 0.0), (0, 1): (NaCl_s, 1.0, 12.0, 12.0, 0.0)}, {\n",
    "    (0, 0): (NaCl_s, 1.0, 12.0, 0.0), (1, 1): (NaCl_s, 1.0, 12.0, 0.0), (0, 1): (NaCl_s, 1.0, 6.0, 12.0, 0.0)}])"
   ]
  },
  {
   "cell_type": "code",
   "execution_count": 12,
   "metadata": {},
   "outputs": [
    {
     "data": {
      "text/plain": [
       "[-4.0000014729919879, -4.0073525380312667, -4.6905299740995288]"
      ]
     },
     "execution_count": 12,
     "metadata": {},
     "output_type": "execute_result"
    }
   ],
   "source": [
    "CsCl_s = (3.0 ** 0.5) * (2.0 ** (-1.0 / 6.0))\n",
    "CsCl.energy({\n",
    "    (0, 0): potential.lj_piecewise_repel, (1, 1): potential.lj_piecewise_repel, (0, 1): potential.lj_piecewise_full}, [{\n",
    "    (0, 0): (CsCl_s, 1.0, 12.0, 0.0), (1, 1): (CsCl_s, 1.0, 12.0, 0.0), (0, 1): (CsCl_s, 1.0, 24.0, 12.0, 0.0)}, {\n",
    "    (0, 0): (CsCl_s, 1.0, 12.0, 0.0), (1, 1): (CsCl_s, 1.0, 12.0, 0.0), (0, 1): (CsCl_s, 1.0, 12.0, 12.0, 0.0)}, {\n",
    "    (0, 0): (CsCl_s, 1.0, 12.0, 0.0), (1, 1): (CsCl_s, 1.0, 12.0, 0.0), (0, 1): (CsCl_s, 1.0, 6.0, 12.0, 0.0)}])"
   ]
  },
  {
   "cell_type": "markdown",
   "metadata": {},
   "source": [
    "The behavior for the sharper potentials is quantitatively as expected given the properties of the NaCl and CsCl structures.  Note how the energy decreases as the potential is made softer (qualitatively as expected).\n",
    "\n",
    "We can recalculate the energies out to a larger cutoff and observe the effects on their magnitudes."
   ]
  },
  {
   "cell_type": "code",
   "execution_count": 13,
   "metadata": {
    "collapsed": true
   },
   "outputs": [],
   "source": [
    "NaCl.measure(20)\n",
    "CsCl.measure(20)"
   ]
  },
  {
   "cell_type": "code",
   "execution_count": 14,
   "metadata": {},
   "outputs": [
    {
     "data": {
      "text/plain": [
       "[-3.0000061449370992, -3.0092336651256315, -3.5886261333530283]"
      ]
     },
     "execution_count": 14,
     "metadata": {},
     "output_type": "execute_result"
    }
   ],
   "source": [
    "NaCl.energy({\n",
    "    (0, 0): potential.lj_piecewise_repel, (1, 1): potential.lj_piecewise_repel, (0, 1): potential.lj_piecewise_full}, [{\n",
    "    (0, 0): (NaCl_s, 1.0, 12.0, 0.0), (1, 1): (NaCl_s, 1.0, 12.0, 0.0), (0, 1): (NaCl_s, 1.0, 24.0, 12.0, 0.0)}, {\n",
    "    (0, 0): (NaCl_s, 1.0, 12.0, 0.0), (1, 1): (NaCl_s, 1.0, 12.0, 0.0), (0, 1): (NaCl_s, 1.0, 12.0, 12.0, 0.0)}, {\n",
    "    (0, 0): (NaCl_s, 1.0, 12.0, 0.0), (1, 1): (NaCl_s, 1.0, 12.0, 0.0), (0, 1): (NaCl_s, 1.0, 6.0, 12.0, 0.0)}])"
   ]
  },
  {
   "cell_type": "code",
   "execution_count": 15,
   "metadata": {},
   "outputs": [
    {
     "data": {
      "text/plain": [
       "[-4.0000014729919879, -4.0073525982407681, -4.7021870397030039]"
      ]
     },
     "execution_count": 15,
     "metadata": {},
     "output_type": "execute_result"
    }
   ],
   "source": [
    "CsCl.energy({\n",
    "    (0, 0): potential.lj_piecewise_repel, (1, 1): potential.lj_piecewise_repel, (0, 1): potential.lj_piecewise_full}, [{\n",
    "    (0, 0): (CsCl_s, 1.0, 12.0, 0.0), (1, 1): (CsCl_s, 1.0, 12.0, 0.0), (0, 1): (CsCl_s, 1.0, 24.0, 12.0, 0.0)}, {\n",
    "    (0, 0): (CsCl_s, 1.0, 12.0, 0.0), (1, 1): (CsCl_s, 1.0, 12.0, 0.0), (0, 1): (CsCl_s, 1.0, 12.0, 12.0, 0.0)}, {\n",
    "    (0, 0): (CsCl_s, 1.0, 12.0, 0.0), (1, 1): (CsCl_s, 1.0, 12.0, 0.0), (0, 1): (CsCl_s, 1.0, 6.0, 12.0, 0.0)}])"
   ]
  },
  {
   "cell_type": "markdown",
   "metadata": {},
   "source": [
    "Scaling\n",
    "--\n",
    "Note how the position of the potential minimum was explicitly set in the previous example.  We can alternatively scale a unit cell based on measurement information so that the potential need not be changed in this way."
   ]
  },
  {
   "cell_type": "code",
   "execution_count": 16,
   "metadata": {},
   "outputs": [
    {
     "data": {
      "text/plain": [
       "(1.0, 1.7320508075688772)"
      ]
     },
     "execution_count": 16,
     "metadata": {},
     "output_type": "execute_result"
    }
   ],
   "source": [
    "# Determine the minimum interatomic distance\n",
    "minimum = lambda cell: min(cell.contact(i, j) for i in range(cell.atom_types()) for j in range(cell.atom_types()))\n",
    "(minimum(NaCl), minimum(CsCl))"
   ]
  },
  {
   "cell_type": "code",
   "execution_count": 17,
   "metadata": {
    "collapsed": true
   },
   "outputs": [],
   "source": [
    "# Perform the rescaling so that the distance is as desired\n",
    "potential_minimum = 2 ** (1 / 6)\n",
    "NaCl.rescale([NaCl.vector(i) * potential_minimum / minimum(NaCl) for i in range(NaCl.dimensions())])\n",
    "CsCl.rescale([CsCl.vector(i) * potential_minimum / minimum(CsCl) for i in range(CsCl.dimensions())])"
   ]
  },
  {
   "cell_type": "code",
   "execution_count": 18,
   "metadata": {},
   "outputs": [
    {
     "data": {
      "text/plain": [
       "([array([ 2.2449241,  0.       ,  0.       ]),\n",
       "  array([ 0.       ,  2.2449241,  0.       ]),\n",
       "  array([ 0.       ,  0.       ,  2.2449241])],\n",
       " [array([ 1.29610753,  0.        ,  0.        ]),\n",
       "  array([ 0.        ,  1.29610753,  0.        ]),\n",
       "  array([ 0.        ,  0.        ,  1.29610753])])"
      ]
     },
     "execution_count": 18,
     "metadata": {},
     "output_type": "execute_result"
    }
   ],
   "source": [
    "# This modifies the cell in place\n",
    "([NaCl.vector(i) for i in range(NaCl.dimensions())], [CsCl.vector(i) for i in range(CsCl.dimensions())])"
   ]
  },
  {
   "cell_type": "code",
   "execution_count": 19,
   "metadata": {
    "collapsed": true
   },
   "outputs": [],
   "source": [
    "# We must remeasure the cells after rescaling\n",
    "NaCl.measure(10)\n",
    "CsCl.measure(10)"
   ]
  },
  {
   "cell_type": "code",
   "execution_count": 20,
   "metadata": {},
   "outputs": [
    {
     "data": {
      "text/plain": [
       "(1.122462048309373, 1.122462048309373)"
      ]
     },
     "execution_count": 20,
     "metadata": {},
     "output_type": "execute_result"
    }
   ],
   "source": [
    "# Note that the minima are now set as desired\n",
    "(minimum(NaCl), minimum(CsCl))"
   ]
  },
  {
   "cell_type": "code",
   "execution_count": 21,
   "metadata": {},
   "outputs": [
    {
     "data": {
      "text/plain": [
       "[-3.0000061449370992, -3.0092336640321569, -3.5858932244454409]"
      ]
     },
     "execution_count": 21,
     "metadata": {},
     "output_type": "execute_result"
    }
   ],
   "source": [
    "# The potentials can be applied without compensation\n",
    "NaCl.energy({\n",
    "    (0, 0): potential.lj_piecewise_repel, (1, 1): potential.lj_piecewise_repel, (0, 1): potential.lj_piecewise_full}, [{\n",
    "    (0, 0): (1.0, 1.0, 12.0, 0.0), (1, 1): (1.0, 1.0, 12.0, 0.0), (0, 1): (1.0, 1.0, 24.0, 12.0, 0.0)}, {\n",
    "    (0, 0): (1.0, 1.0, 12.0, 0.0), (1, 1): (1.0, 1.0, 12.0, 0.0), (0, 1): (1.0, 1.0, 12.0, 12.0, 0.0)}, {\n",
    "    (0, 0): (1.0, 1.0, 12.0, 0.0), (1, 1): (1.0, 1.0, 12.0, 0.0), (0, 1): (1.0, 1.0, 6.0, 12.0, 0.0)}])"
   ]
  },
  {
   "cell_type": "code",
   "execution_count": 22,
   "metadata": {},
   "outputs": [
    {
     "data": {
      "text/plain": [
       "[-4.0000014729919862, -4.0073525969561965, -4.7000532092847767]"
      ]
     },
     "execution_count": 22,
     "metadata": {},
     "output_type": "execute_result"
    }
   ],
   "source": [
    "# You may notice that the energies deviate very slightly from the ones calculated before:\n",
    "# this is due to the cutoff remaining constant but the cell size changing.  You should\n",
    "# determine what cutoffs are most appropriate for your potentials and structures.\n",
    "CsCl.energy({\n",
    "    (0, 0): potential.lj_piecewise_repel, (1, 1): potential.lj_piecewise_repel, (0, 1): potential.lj_piecewise_full}, [{\n",
    "    (0, 0): (1.0, 1.0, 12.0, 0.0), (1, 1): (1.0, 1.0, 12.0, 0.0), (0, 1): (1.0, 1.0, 24.0, 12.0, 0.0)}, {\n",
    "    (0, 0): (1.0, 1.0, 12.0, 0.0), (1, 1): (1.0, 1.0, 12.0, 0.0), (0, 1): (1.0, 1.0, 12.0, 12.0, 0.0)}, {\n",
    "    (0, 0): (1.0, 1.0, 12.0, 0.0), (1, 1): (1.0, 1.0, 12.0, 0.0), (0, 1): (1.0, 1.0, 6.0, 12.0, 0.0)}])"
   ]
  },
  {
   "cell_type": "markdown",
   "metadata": {},
   "source": [
    "Low Level Interface Module Reference\n",
    "--"
   ]
  },
  {
   "cell_type": "code",
   "execution_count": 23,
   "metadata": {},
   "outputs": [
    {
     "name": "stdout",
     "output_type": "stream",
     "text": [
      "Help on module crystal:\n",
      "\n",
      "NAME\n",
      "    crystal - Contains low-level routines for crystal structure energy calculations.\n",
      "\n",
      "CLASSES\n",
      "    builtins.object\n",
      "        Cell\n",
      "    \n",
      "    class Cell(builtins.object)\n",
      "     |  Creates a unit cell with the specified parameters.\n",
      "     |  \n",
      "     |  Parameters\n",
      "     |  ----------\n",
      "     |  vectors : ndarray\n",
      "     |      Cell vectors as a matrix of row vectors (columns set dimensions)\n",
      "     |  atom_lists : list of ndarray\n",
      "     |      Atom coordinates as matrices of row vectors (one matrix per type)\n",
      "     |  \n",
      "     |  Raises\n",
      "     |  ------\n",
      "     |  ValueError\n",
      "     |      Inconsistent dimensions or invalid values of input data\n",
      "     |  \n",
      "     |  Methods defined here:\n",
      "     |  \n",
      "     |  __init__(self, vectors, atom_lists)\n",
      "     |      Initialize self.  See help(type(self)) for accurate signature.\n",
      "     |  \n",
      "     |  atom(self, list_index, atom_index)\n",
      "     |      Retrieves the coordinates of a given atom.\n",
      "     |      \n",
      "     |      Parameters\n",
      "     |      ----------\n",
      "     |      list_index : int\n",
      "     |          Index of atom type to examine\n",
      "     |      atom_index : int\n",
      "     |          Index of atom to examine\n",
      "     |      \n",
      "     |      Returns\n",
      "     |      -------\n",
      "     |      ndarray\n",
      "     |          Row vector of coordinates requested\n",
      "     |  \n",
      "     |  atom_count(self, index)\n",
      "     |      Retrieves the number of atoms of a given type.\n",
      "     |      \n",
      "     |      Parameters\n",
      "     |      ----------\n",
      "     |      index : int\n",
      "     |          Index of atom type to examine\n",
      "     |      \n",
      "     |      Returns\n",
      "     |      -------\n",
      "     |      int\n",
      "     |          Number of atoms requested\n",
      "     |  \n",
      "     |  atom_types(self)\n",
      "     |      Retrieves the number of atom types.\n",
      "     |      \n",
      "     |      Returns\n",
      "     |      -------\n",
      "     |      int\n",
      "     |          Number of types\n",
      "     |  \n",
      "     |  contact(self, source_list_index, target_list_index)\n",
      "     |      Retrieves pregenerated atom contact information.\n",
      "     |      \n",
      "     |      Parameters\n",
      "     |      ----------\n",
      "     |      source_list_index : int\n",
      "     |          Source atom type index\n",
      "     |      target_list_index : int\n",
      "     |          Target atom type index\n",
      "     |      \n",
      "     |      Returns\n",
      "     |      -------\n",
      "     |      float\n",
      "     |          Minimum distance between atoms\n",
      "     |  \n",
      "     |  dimensions(self)\n",
      "     |      Retrieves the number of spatial dimensions of the cell.\n",
      "     |      \n",
      "     |      Returns\n",
      "     |      -------\n",
      "     |      int\n",
      "     |          Number of dimensions\n",
      "     |  \n",
      "     |  energy(self, potentials, parameter_sets)\n",
      "     |      Determines the interaction energy per atom of the unit cell.\n",
      "     |      \n",
      "     |      Parameters\n",
      "     |      ----------\n",
      "     |      potentials : dict of (tuple of int), potential\n",
      "     |          Potentials for each pair of atom types\n",
      "     |      parameter_sets : list of dict of (tuple of int), tuple\n",
      "     |          Sets of parameters fed to the potentials\n",
      "     |      \n",
      "     |      Returns\n",
      "     |      -------\n",
      "     |      list of float\n",
      "     |          Energies calculated for each parameter set\n",
      "     |      \n",
      "     |      Raises\n",
      "     |      ------\n",
      "     |      ValueError\n",
      "     |          Duplicate specification of atom type pairs was encountered\n",
      "     |  \n",
      "     |  histogram(self, source_list_index, target_list_index)\n",
      "     |      Retrieves a pregenerated histogram.\n",
      "     |      \n",
      "     |      Parameters\n",
      "     |      ----------\n",
      "     |      source_list_index : int\n",
      "     |          Source atom type index\n",
      "     |      target_list_index : int\n",
      "     |          Target atom type index\n",
      "     |      \n",
      "     |      Returns\n",
      "     |      -------\n",
      "     |      dict of float -> int\n",
      "     |          Histogram as (distance -> atom_count)\n",
      "     |  \n",
      "     |  measure(self, cutoff)\n",
      "     |      Performs histogram measurements on the system out to a given cutoff distance.\n",
      "     |      \n",
      "     |      Parameters\n",
      "     |      ----------\n",
      "     |      cutoff : float\n",
      "     |          Cutoff distance\n",
      "     |      \n",
      "     |      Raises\n",
      "     |      ------\n",
      "     |      ValueError\n",
      "     |          No atoms were identified within the specified cutoff\n",
      "     |  \n",
      "     |  read_histogram(self, text_file)\n",
      "     |      Reads histogram information from a text file.\n",
      "     |      \n",
      "     |      Parameters\n",
      "     |      ----------\n",
      "     |      text_file : TextIOBase\n",
      "     |          Input file\n",
      "     |      \n",
      "     |      Raises\n",
      "     |      ------\n",
      "     |      ValueError\n",
      "     |          Invalid data were encountered\n",
      "     |  \n",
      "     |  rescale(self, vectors)\n",
      "     |      Rescales a unit cell by applying new basis vectors.\n",
      "     |      \n",
      "     |      Parameters\n",
      "     |      ----------\n",
      "     |      vectors : ndarray\n",
      "     |          An array of basis vectors.\n",
      "     |      \n",
      "     |      Raises\n",
      "     |      ------\n",
      "     |      ValueError\n",
      "     |          Invalid basis vectors were received\n",
      "     |  \n",
      "     |  vector(self, index)\n",
      "     |      Retrieves a cell vector.\n",
      "     |      \n",
      "     |      Parameters\n",
      "     |      ----------\n",
      "     |      index : int\n",
      "     |          Index of cell vector to retrieve\n",
      "     |      \n",
      "     |      Returns\n",
      "     |      -------\n",
      "     |      ndarray\n",
      "     |          Row vector requested\n",
      "     |  \n",
      "     |  write_data(self, text_file)\n",
      "     |      Writes vector and atom information to a text file.\n",
      "     |      \n",
      "     |      Parameters\n",
      "     |      ----------\n",
      "     |      text_file : TextIOBase\n",
      "     |          Output file\n",
      "     |  \n",
      "     |  write_histogram(self, text_file)\n",
      "     |      Writes histogram information to a text file.\n",
      "     |      \n",
      "     |      Parameters\n",
      "     |      ----------\n",
      "     |      text_file : TextIOBase\n",
      "     |          Output file\n",
      "     |  \n",
      "     |  write_lammps(self, text_file)\n",
      "     |      Writes vector and atom information to a LAMMPS file.\n",
      "     |      \n",
      "     |      Parameters\n",
      "     |      ----------\n",
      "     |      text_file : TextIOBase\n",
      "     |          Output file\n",
      "     |      \n",
      "     |      Raises\n",
      "     |      ------\n",
      "     |      NotImplementedError\n",
      "     |          The cell does not have exactly 3 dimensions\n",
      "     |  \n",
      "     |  ----------------------------------------------------------------------\n",
      "     |  Static methods defined here:\n",
      "     |  \n",
      "     |  read_data(text_file)\n",
      "     |      Reads vector and atom information from a text file.\n",
      "     |      \n",
      "     |      Parameters\n",
      "     |      ----------\n",
      "     |      text_file : TextIOBase\n",
      "     |          Input file\n",
      "     |      \n",
      "     |      Returns\n",
      "     |      -------\n",
      "     |      Cell\n",
      "     |          Data read\n",
      "     |      \n",
      "     |      Raises\n",
      "     |      ------\n",
      "     |      ValueError\n",
      "     |          Invalid data were encountered\n",
      "     |  \n",
      "     |  ----------------------------------------------------------------------\n",
      "     |  Data descriptors defined here:\n",
      "     |  \n",
      "     |  __dict__\n",
      "     |      dictionary for instance variables (if defined)\n",
      "     |  \n",
      "     |  __weakref__\n",
      "     |      list of weak references to the object (if defined)\n",
      "\n",
      "FILE\n",
      "    /home/likewise-open/NIST/ejp3/work/PYCSAnalysis/crystal.py\n",
      "\n",
      "\n"
     ]
    }
   ],
   "source": [
    "help(crystal)"
   ]
  },
  {
   "cell_type": "code",
   "execution_count": 24,
   "metadata": {},
   "outputs": [
    {
     "name": "stdout",
     "output_type": "stream",
     "text": [
      "Help on module potential:\n",
      "\n",
      "NAME\n",
      "    potential - Contains various pairwise potential models.\n",
      "\n",
      "FUNCTIONS\n",
      "    jagla(r, sigma, epsilon, n, s, a0, a1, a2, b0, b1, b2, q)\n",
      "        Represents a generalized \"Jagla\" potential.\n",
      "        \n",
      "        Parameters\n",
      "        ----------\n",
      "        r : ndarray\n",
      "            Separation distances\n",
      "        sigma : float\n",
      "            Power term length scale factor\n",
      "        epsilon : float\n",
      "            Power term energy scale factor\n",
      "        n : float\n",
      "            Power term exponent\n",
      "        s : float\n",
      "            Power term horizontal shift distance\n",
      "        a0 : float\n",
      "            First exponential term energy scale factor\n",
      "        a1 : float\n",
      "            First exponential term shape factor\n",
      "        a2 : float\n",
      "            First exponential term horizontal shift distance\n",
      "        b0 : float\n",
      "            Second exponential term energy scale factor\n",
      "        b1 : float\n",
      "            Second exponential term shape factor\n",
      "        b2 : float\n",
      "            Second exponential term horizontal shift distance\n",
      "        q : float\n",
      "            Overall horizontal scale factor\n",
      "        \n",
      "        Returns\n",
      "        -------\n",
      "        ndarray\n",
      "            Potential energies\n",
      "    \n",
      "    jagla_solve(e)\n",
      "        Determines \"Jagla\" potential coefficients for a specific minimum position.\n",
      "        \n",
      "        Parameters\n",
      "        ----------\n",
      "        e : float\n",
      "            Desired potential well depth\n",
      "        \n",
      "        Returns\n",
      "        -------\n",
      "        tuple\n",
      "            Potential parameters **sigma**, **epsilon**, **n**, **s**, \n",
      "            **a0**, **a1**, **a2**, **b0**, **b1**, **b2**, **q**\n",
      "        \n",
      "        Raises\n",
      "        ------\n",
      "        RuntimeError\n",
      "            The minimization algorithm failed\n",
      "    \n",
      "    lj(r, sigma, epsilon)\n",
      "        Represents a 12-6 Lennard-Jones potential.\n",
      "        \n",
      "        Parameters\n",
      "        ----------\n",
      "        r : ndarray\n",
      "            Separation distances\n",
      "        sigma : float\n",
      "            Length scale factor\n",
      "        epsilon : float\n",
      "            Energy scale factor\n",
      "        \n",
      "        Returns\n",
      "        -------\n",
      "        ndarray\n",
      "            Potential energies\n",
      "    \n",
      "    lj_lambda(r, sigma, epsilon, lambda_)\n",
      "        Represents an \"LJ-lambda\" potential.\n",
      "        \n",
      "        Parameters\n",
      "        ----------\n",
      "        r : ndarray\n",
      "            Separation distances\n",
      "        sigma : float\n",
      "            Length scale factor\n",
      "        epsilon : float\n",
      "            Energy scale factor\n",
      "        lambda_ : float\n",
      "            Potential shape factor\n",
      "        \n",
      "        Returns\n",
      "        -------\n",
      "        ndarray\n",
      "            Potential energies\n",
      "    \n",
      "    lj_piecewise_full(r, sigma, epsilon, m, n, s)\n",
      "        Represents an attractive-repulsive piecewise modified LJ potential.\n",
      "        \n",
      "        Parameters\n",
      "        ----------\n",
      "        r : ndarray\n",
      "            Separation distances\n",
      "        sigma : float\n",
      "            Length scale factor\n",
      "        epsilon : float\n",
      "            Energy scale factor\n",
      "        m : float\n",
      "            Far (attractive) side exponent\n",
      "        n : float\n",
      "            Near (repulsive) side exponent\n",
      "        s : float\n",
      "            Horizontal shift factor\n",
      "        \n",
      "        Returns\n",
      "        -------\n",
      "        ndarray\n",
      "            Potential energies\n",
      "    \n",
      "    lj_piecewise_repel(r, sigma, epsilon, n, s)\n",
      "        Represents a purely repulsive cutoff modified LJ potential.\n",
      "        \n",
      "        Parameters\n",
      "        ----------\n",
      "        r : ndarray\n",
      "            Separation distances\n",
      "        sigma : float\n",
      "            Length scale factor\n",
      "        epsilon : float\n",
      "            Energy scale factor\n",
      "        n : float\n",
      "            Near (repulsive) side exponent\n",
      "        s : float\n",
      "            Horizontal shift factor\n",
      "        \n",
      "        Returns\n",
      "        -------\n",
      "        ndarray\n",
      "            Potential energies\n",
      "    \n",
      "    stsp(r, sigma, epsilon, lambda_, n, s)\n",
      "        Represents an \"STSP\" potential.\n",
      "        \n",
      "        Parameters\n",
      "        ----------\n",
      "        r : ndarray\n",
      "            Separation distances\n",
      "        sigma : float\n",
      "            Length scale factor\n",
      "        epsilon : float\n",
      "            Energy scale factor\n",
      "        lambda_ : float\n",
      "            Potential shape factor\n",
      "        n : float\n",
      "            Potential exponent\n",
      "        s : float\n",
      "            Horizontal shift factor\n",
      "\n",
      "FILE\n",
      "    /home/likewise-open/NIST/ejp3/work/PYCSAnalysis/potential.py\n",
      "\n",
      "\n"
     ]
    }
   ],
   "source": [
    "help(potential)"
   ]
  }
 ],
 "metadata": {
  "anaconda-cloud": {},
  "kernelspec": {
   "display_name": "Python 3",
   "language": "python",
   "name": "python3"
  },
  "language_info": {
   "codemirror_mode": {
    "name": "ipython",
    "version": 3
   },
   "file_extension": ".py",
   "mimetype": "text/x-python",
   "name": "python",
   "nbconvert_exporter": "python",
   "pygments_lexer": "ipython3",
   "version": "3.6.1"
  }
 },
 "nbformat": 4,
 "nbformat_minor": 2
}
