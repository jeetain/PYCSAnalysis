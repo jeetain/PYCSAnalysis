{
 "cells": [
  {
   "cell_type": "markdown",
   "metadata": {
    "collapsed": true
   },
   "source": [
    "PCSEA High Level Interface\n",
    "==\n",
    "This notebook demonstrates the use of the high level interface to PCSEA.  This interface permits analysis of more complex systems, as well as identification of possible phase separation behavior."
   ]
  },
  {
   "cell_type": "code",
   "execution_count": 1,
   "metadata": {
    "collapsed": true
   },
   "outputs": [],
   "source": [
    "# Import necessary modules\n",
    "import inspect, io, math, numpy, os, sys\n",
    "sys.path.append(os.path.realpath(os.path.join(os.path.dirname(inspect.getfile(inspect.currentframe())), \"..\")))\n",
    "import crystal, potential, equilibrium"
   ]
  },
  {
   "cell_type": "code",
   "execution_count": 2,
   "metadata": {
    "collapsed": true
   },
   "outputs": [],
   "source": [
    "# Create cells for testing\n",
    "NaCl = crystal.Cell(\n",
    "    numpy.array([[2, 0, 0], [0, 2, 0], [0, 0, 2]]), [\n",
    "    numpy.array([[0, 0, 0], [0, 1, 1], [1, 0, 1], [1, 1, 0]]),\n",
    "    numpy.array([[0, 0, 1], [0, 1, 0], [1, 0, 0], [1, 1, 1]])])\n",
    "CsCl = crystal.Cell(\n",
    "    numpy.array([[2, 0, 0], [0, 2, 0], [0, 0, 2]]), [\n",
    "    numpy.array([[0, 0, 0]]),\n",
    "    numpy.array([[1, 1, 1]])])"
   ]
  },
  {
   "cell_type": "markdown",
   "metadata": {},
   "source": [
    "Scaling\n",
    "==\n",
    "It is desirable to rescale cells and potentials such that interacting neighboring atoms rest at equilibrium positions, or positions that are at least very close to equilibrium.  Cells can be rescaled in place very easily.  Minima of potentials can be measured, although this action can be performed automatically during energy analysis."
   ]
  },
  {
   "cell_type": "code",
   "execution_count": 3,
   "metadata": {},
   "outputs": [],
   "source": [
    "# Rescale cells\n",
    "equilibrium.rescale([NaCl, CsCl])"
   ]
  },
  {
   "cell_type": "code",
   "execution_count": 4,
   "metadata": {
    "collapsed": true
   },
   "outputs": [],
   "source": [
    "# Note that cells must be remeasured after rescaling\n",
    "NaCl.measure(10)\n",
    "CsCl.measure(10)"
   ]
  },
  {
   "cell_type": "code",
   "execution_count": 5,
   "metadata": {},
   "outputs": [
    {
     "data": {
      "text/plain": [
       "([1.4142135623730951, 1.0, 1.0, 1.4142135623730951],\n",
       " [1.1547005383792517, 1.0, 1.0, 1.1547005383792517])"
      ]
     },
     "execution_count": 5,
     "metadata": {},
     "output_type": "execute_result"
    }
   ],
   "source": [
    "# Minimum interatomic contacts are now set to 1\n",
    "([NaCl.contact(i, j) for i in range(NaCl.atom_types()) for j in range(NaCl.atom_types())],\n",
    " [CsCl.contact(i, j) for i in range(CsCl.atom_types()) for j in range(CsCl.atom_types())])"
   ]
  },
  {
   "cell_type": "code",
   "execution_count": 6,
   "metadata": {},
   "outputs": [
    {
     "data": {
      "text/plain": [
       "([array([ 2.,  0.,  0.]), array([ 0.,  2.,  0.]), array([ 0.,  0.,  2.])],\n",
       " [array([ 1.15470054,  0.        ,  0.        ]),\n",
       "  array([ 0.        ,  1.15470054,  0.        ]),\n",
       "  array([ 0.        ,  0.        ,  1.15470054])])"
      ]
     },
     "execution_count": 6,
     "metadata": {},
     "output_type": "execute_result"
    }
   ],
   "source": [
    "# Cell vectors have been changed to accomplish this, although the shape of the cell remains fixed\n",
    "([NaCl.vector(i) for i in range(NaCl.dimensions())], [CsCl.vector(i) for i in range(CsCl.dimensions())])"
   ]
  },
  {
   "cell_type": "code",
   "execution_count": 7,
   "metadata": {},
   "outputs": [
    {
     "data": {
      "text/plain": [
       "(array([ 0.1,  0.2,  0.3,  0.4,  0.5,  0.6,  0.7,  0.8,  0.9,  1. ]),\n",
       " [{1: 1.0244511294825793},\n",
       "  {1: 1.0170288157921576},\n",
       "  {1: 1.0127118030941682},\n",
       "  {1: 1.0096598868361948},\n",
       "  {1: 1.0072989256743716},\n",
       "  {1: 1.0053739507339252},\n",
       "  {1: 1.003749240570426},\n",
       "  {1: 1.0023439785284511},\n",
       "  {1: 1.0011060605211579},\n",
       "  {1: 1.0000000019604902}])"
      ]
     },
     "execution_count": 7,
     "metadata": {},
     "output_type": "execute_result"
    }
   ],
   "source": [
    "# Minima of potentials can be found with a single call\n",
    "# Dictionary keys can be any sort of hashable object, as is illustrated here with integer keys\n",
    "# Typically these keys will be tuples for compatibility with other function interfaces\n",
    "# Usually it will not be necessary to use this functionality directly\n",
    "lambda_ = numpy.linspace(0.1, 1.0, 10)\n",
    "lambda_, equilibrium.minima({1: potential.stsp}, [{1: (1.0, 1.0, lambda_i, 96.0, 1.0)} for lambda_i in lambda_],\n",
    "    [{1: (0.0, 2.0)} for lambda_i in lambda_])"
   ]
  },
  {
   "cell_type": "markdown",
   "metadata": {},
   "source": [
    "Energy calculation\n",
    "--\n",
    "There are a few different calls that can be made to perform batch energy calculations.  The simplest takes a number of cells, potentials, and parameter sets, and performs the energy calculations."
   ]
  },
  {
   "cell_type": "code",
   "execution_count": 8,
   "metadata": {},
   "outputs": [
    {
     "data": {
      "text/plain": [
       "[[-4.8334224986714736,\n",
       "  -3.1306728769367234,\n",
       "  -3.0148621237872955,\n",
       "  -3.0018108691892946,\n",
       "  -3.0002246936375672,\n",
       "  -3.0000280291428534],\n",
       " [-6.4198187921210366,\n",
       "  -4.5085487487747358,\n",
       "  -4.2279439523484976,\n",
       "  -4.1006067762944332,\n",
       "  -4.0433104764085437,\n",
       "  -4.0184302309055768]]"
      ]
     },
     "execution_count": 8,
     "metadata": {},
     "output_type": "execute_result"
    }
   ],
   "source": [
    "# In this case, no special rescaling of the potential is performed\n",
    "equilibrium.energies([1, 1], [NaCl, CsCl], {(0, 0): potential.stsp, (1, 1): potential.stsp, (0, 1): potential.stsp},\n",
    "    [{(0, 0): (1.0, 1.0, 0.5, n, 1.0), (1, 1): (1.0, 1.0, 0.5, n, 1.0), (0, 1): (1.0, 1.0, 1.0, n, 1.0)} for n in \\\n",
    "    numpy.linspace(6.0, 36.0, 6)])"
   ]
  },
  {
   "cell_type": "code",
   "execution_count": 9,
   "metadata": {},
   "outputs": [
    {
     "data": {
      "text/plain": [
       "[[-4.3545173427510688,\n",
       "  -3.0737345810549517,\n",
       "  -3.0076659272448913,\n",
       "  -3.0009105760152943,\n",
       "  -3.0001122069019885,\n",
       "  -3.0000139745440895],\n",
       " [-5.8658832293392731,\n",
       "  -4.2885816054771064,\n",
       "  -4.1187909335061637,\n",
       "  -4.0510787123333216,\n",
       "  -4.0217707657660133,\n",
       "  -4.009227584932602]]"
      ]
     },
     "execution_count": 9,
     "metadata": {},
     "output_type": "execute_result"
    }
   ],
   "source": [
    "# Here, the potentials are rescaled such that their minima are at r = 1\n",
    "# It is necessary to specify bounds within which the minima should be searched for\n",
    "# It may be wise to run equilibrium.minima to make sure that the minima have actually been found properly\n",
    "equilibrium.energies([1, 1], [NaCl, CsCl], {(0, 0): potential.stsp, (1, 1): potential.stsp, (0, 1): potential.stsp},\n",
    "    [{(0, 0): (1.0, 1.0, 0.5, n, 1.0), (1, 1): (1.0, 1.0, 0.5, n, 1.0), (0, 1): (1.0, 1.0, 1.0, n, 1.0)} for n in \\\n",
    "    numpy.linspace(6.0, 36.0, 6)], 1.0,\n",
    "    [{(0, 0): (0.5, 2.0), (1, 1): (0.5, 2.0), (0, 1): (0.5, 2.0)} for n in numpy.linspace(6.0, 36.0, 6)])\n",
    "# Notice that the energies have decreased as the minima are more well aligned"
   ]
  },
  {
   "cell_type": "markdown",
   "metadata": {},
   "source": [
    "High Level Interface Module Reference\n",
    "--"
   ]
  },
  {
   "cell_type": "code",
   "execution_count": 10,
   "metadata": {},
   "outputs": [
    {
     "name": "stdout",
     "output_type": "stream",
     "text": [
      "Help on module equilibrium:\n",
      "\n",
      "NAME\n",
      "    equilibrium - Performs calculations to determine energies of a large number of crystal cells with a large number of potential parameters.\n",
      "\n",
      "FUNCTIONS\n",
      "    energies(stoichiometry, cells, potentials, parameter_sets, scale_target=None, search_bounds=None)\n",
      "        Calculates system energies assuming the formation of a single ordered phase.\n",
      "        \n",
      "        Parameters\n",
      "        ----------\n",
      "        stoichiometry : list of float\n",
      "            System solution stoichiometry\n",
      "        cells : list of :py:class:`crystal.Cell`\n",
      "            Structures to analyze\n",
      "        potentials : dict of (tuple of int) -> potential\n",
      "            Potentials for each pair of atom types\n",
      "        parameter_sets : list of dict of (tuple of int) -> tuple\n",
      "            Sets of parameters fed to the potentials\n",
      "        scale_target : float\n",
      "            Optional potential minimum distance target\n",
      "        search_bounds : list of dict of (tuple of int) -> (tuple of float)\n",
      "            Bounds in which to search for potential minima\n",
      "        \n",
      "        Returns\n",
      "        -------\n",
      "        list of list of float\n",
      "            Energies per atom for each structure\n",
      "    \n",
      "    minima(potentials, parameter_sets, bounds)\n",
      "        Determines the positions of minima for a number of potentials and parameter sets.\n",
      "        \n",
      "        Parameters\n",
      "        ----------\n",
      "        potentials : dict of ? -> potential\n",
      "            Potentials identified by arbitrary keys\n",
      "        parameter_sets : list of dict of ? -> potential\n",
      "            Sets of parameters fed to the potentials\n",
      "        bounds : list of dict of ? -> (tuple of float)\n",
      "            Bounds within which to search for the minima\n",
      "        \n",
      "        Returns\n",
      "        -------\n",
      "        list of dict of ? -> float\n",
      "            Minima calculated for each potential with each parameter set\n",
      "        \n",
      "        Raises\n",
      "        ------\n",
      "        RuntimeError\n",
      "            The minimization algorithm failed\n",
      "    \n",
      "    rescale(cells)\n",
      "        Rescales cells such that the minimum contact distance is unity.\n",
      "        \n",
      "        Parameters\n",
      "        ----------\n",
      "        cells : list of :py:class:`crystal.Cell`\n",
      "            Cells to rescale in place\n",
      "\n",
      "FILE\n",
      "    /home/likewise-open/NIST/ejp3/work/PYCSAnalysis/equilibrium.py\n",
      "\n",
      "\n"
     ]
    }
   ],
   "source": [
    "help(equilibrium)"
   ]
  }
 ],
 "metadata": {
  "anaconda-cloud": {},
  "kernelspec": {
   "display_name": "Python 3",
   "language": "python",
   "name": "python3"
  },
  "language_info": {
   "codemirror_mode": {
    "name": "ipython",
    "version": 3
   },
   "file_extension": ".py",
   "mimetype": "text/x-python",
   "name": "python",
   "nbconvert_exporter": "python",
   "pygments_lexer": "ipython3",
   "version": "3.6.1"
  }
 },
 "nbformat": 4,
 "nbformat_minor": 2
}
